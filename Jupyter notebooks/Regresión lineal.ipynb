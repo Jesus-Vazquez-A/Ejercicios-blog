{
 "cells": [
  {
   "cell_type": "markdown",
   "id": "bda21571",
   "metadata": {},
   "source": [
    "## Importación de librerias"
   ]
  },
  {
   "cell_type": "code",
   "execution_count": 1,
   "id": "0a615b90",
   "metadata": {},
   "outputs": [],
   "source": [
    "import pandas as pd\n",
    "import numpy as np\n",
    "import matplotlib.pyplot as plt\n",
    "import seaborn as sns\n",
    "import warnings"
   ]
  },
  {
   "cell_type": "markdown",
   "id": "2d64c74a",
   "metadata": {},
   "source": [
    "## Definición del problema\n",
    "\n",
    "Crear un algoritmo de regresión para predecir el nuevo tiempo record en categoria de 100 metros.\n",
    "\n",
    "Year representa los años\n",
    "\n",
    "Time el tiempo del recorrdo de 100 metros"
   ]
  },
  {
   "cell_type": "code",
   "execution_count": 2,
   "id": "463e834d",
   "metadata": {},
   "outputs": [],
   "source": [
    "df=pd.read_csv(\"C:\\\\Users\\\\amado\\\\Desktop\\\\Blog\\\\Base de datos\\\\olympic100m.csv\")"
   ]
  },
  {
   "cell_type": "code",
   "execution_count": 3,
   "id": "ccf29d6a",
   "metadata": {},
   "outputs": [
    {
     "data": {
      "text/html": [
       "<div>\n",
       "<style scoped>\n",
       "    .dataframe tbody tr th:only-of-type {\n",
       "        vertical-align: middle;\n",
       "    }\n",
       "\n",
       "    .dataframe tbody tr th {\n",
       "        vertical-align: top;\n",
       "    }\n",
       "\n",
       "    .dataframe thead th {\n",
       "        text-align: right;\n",
       "    }\n",
       "</style>\n",
       "<table border=\"1\" class=\"dataframe\">\n",
       "  <thead>\n",
       "    <tr style=\"text-align: right;\">\n",
       "      <th></th>\n",
       "      <th>year</th>\n",
       "      <th>time</th>\n",
       "    </tr>\n",
       "  </thead>\n",
       "  <tbody>\n",
       "    <tr>\n",
       "      <th>0</th>\n",
       "      <td>1896</td>\n",
       "      <td>12.0</td>\n",
       "    </tr>\n",
       "    <tr>\n",
       "      <th>1</th>\n",
       "      <td>1900</td>\n",
       "      <td>11.0</td>\n",
       "    </tr>\n",
       "    <tr>\n",
       "      <th>2</th>\n",
       "      <td>1904</td>\n",
       "      <td>11.0</td>\n",
       "    </tr>\n",
       "    <tr>\n",
       "      <th>3</th>\n",
       "      <td>1906</td>\n",
       "      <td>11.2</td>\n",
       "    </tr>\n",
       "    <tr>\n",
       "      <th>4</th>\n",
       "      <td>1908</td>\n",
       "      <td>10.8</td>\n",
       "    </tr>\n",
       "  </tbody>\n",
       "</table>\n",
       "</div>"
      ],
      "text/plain": [
       "   year  time\n",
       "0  1896  12.0\n",
       "1  1900  11.0\n",
       "2  1904  11.0\n",
       "3  1906  11.2\n",
       "4  1908  10.8"
      ]
     },
     "execution_count": 3,
     "metadata": {},
     "output_type": "execute_result"
    }
   ],
   "source": [
    "df.head()"
   ]
  },
  {
   "cell_type": "code",
   "execution_count": 4,
   "id": "f3bb448f",
   "metadata": {},
   "outputs": [
    {
     "data": {
      "text/plain": [
       "(29, 2)"
      ]
     },
     "execution_count": 4,
     "metadata": {},
     "output_type": "execute_result"
    }
   ],
   "source": [
    "df.shape"
   ]
  },
  {
   "cell_type": "markdown",
   "id": "dce7cf0b",
   "metadata": {},
   "source": [
    "El dataset cuenta cons 29 observaciones y 2 variables."
   ]
  },
  {
   "cell_type": "code",
   "execution_count": 5,
   "id": "35152f62",
   "metadata": {},
   "outputs": [
    {
     "data": {
      "text/html": [
       "<div>\n",
       "<style scoped>\n",
       "    .dataframe tbody tr th:only-of-type {\n",
       "        vertical-align: middle;\n",
       "    }\n",
       "\n",
       "    .dataframe tbody tr th {\n",
       "        vertical-align: top;\n",
       "    }\n",
       "\n",
       "    .dataframe thead th {\n",
       "        text-align: right;\n",
       "    }\n",
       "</style>\n",
       "<table border=\"1\" class=\"dataframe\">\n",
       "  <thead>\n",
       "    <tr style=\"text-align: right;\">\n",
       "      <th></th>\n",
       "      <th>year</th>\n",
       "      <th>time</th>\n",
       "    </tr>\n",
       "  </thead>\n",
       "  <tbody>\n",
       "    <tr>\n",
       "      <th>count</th>\n",
       "      <td>29.000000</td>\n",
       "      <td>29.000000</td>\n",
       "    </tr>\n",
       "    <tr>\n",
       "      <th>mean</th>\n",
       "      <td>1956.620690</td>\n",
       "      <td>10.343448</td>\n",
       "    </tr>\n",
       "    <tr>\n",
       "      <th>std</th>\n",
       "      <td>37.876127</td>\n",
       "      <td>0.537509</td>\n",
       "    </tr>\n",
       "    <tr>\n",
       "      <th>min</th>\n",
       "      <td>1896.000000</td>\n",
       "      <td>9.630000</td>\n",
       "    </tr>\n",
       "    <tr>\n",
       "      <th>25%</th>\n",
       "      <td>1924.000000</td>\n",
       "      <td>9.950000</td>\n",
       "    </tr>\n",
       "    <tr>\n",
       "      <th>50%</th>\n",
       "      <td>1960.000000</td>\n",
       "      <td>10.250000</td>\n",
       "    </tr>\n",
       "    <tr>\n",
       "      <th>75%</th>\n",
       "      <td>1988.000000</td>\n",
       "      <td>10.800000</td>\n",
       "    </tr>\n",
       "    <tr>\n",
       "      <th>max</th>\n",
       "      <td>2016.000000</td>\n",
       "      <td>12.000000</td>\n",
       "    </tr>\n",
       "  </tbody>\n",
       "</table>\n",
       "</div>"
      ],
      "text/plain": [
       "              year       time\n",
       "count    29.000000  29.000000\n",
       "mean   1956.620690  10.343448\n",
       "std      37.876127   0.537509\n",
       "min    1896.000000   9.630000\n",
       "25%    1924.000000   9.950000\n",
       "50%    1960.000000  10.250000\n",
       "75%    1988.000000  10.800000\n",
       "max    2016.000000  12.000000"
      ]
     },
     "execution_count": 5,
     "metadata": {},
     "output_type": "execute_result"
    }
   ],
   "source": [
    "df.describe()"
   ]
  },
  {
   "cell_type": "code",
   "execution_count": 6,
   "id": "0f68f65f",
   "metadata": {},
   "outputs": [
    {
     "data": {
      "image/png": "[encoded data removed]",
      "text/plain": [
       "<Figure size 1440x576 with 1 Axes>"
      ]
     },
     "metadata": {},
     "output_type": "display_data"
    }
   ],
   "source": [
    "sns.set_style(style='whitegrid')\n",
    "\n",
    "\n",
    "plt.subplots(1,1,figsize=(20,8))\n",
    "\n",
    "plt.title('Years vs time')\n",
    "sns.scatterplot(x='year',y='time',data=df,color='c')\n",
    "plt.show()"
   ]
  },
  {
   "cell_type": "markdown",
   "id": "d2ae4817",
   "metadata": {},
   "source": [
    "Se ve una clara correlación negativa ya que entre más pasa los años lo más natural es que vaya disminuyendo el tiempo de recorrido ya que cada vez surgen mejores formas de entrenamiento y más investigación cientifíca en el deporte a su vez se aprecía un valor atípico por lo cual tenemos que eliminarlo para evitar el sesgo."
   ]
  },
  {
   "cell_type": "code",
   "execution_count": 7,
   "id": "a4ad53f2",
   "metadata": {},
   "outputs": [
    {
     "data": {
      "image/png": "[encoded data removed]",
      "text/plain": [
       "<Figure size 1296x576 with 2 Axes>"
      ]
     },
     "metadata": {},
     "output_type": "display_data"
    }
   ],
   "source": [
    "plt.subplots(1,1,figsize=(18,8))\n",
    "\n",
    "plt.title('Correlation Matrix')\n",
    "sns.heatmap(df.corr(),annot=True)\n",
    "plt.show()"
   ]
  },
  {
   "cell_type": "markdown",
   "id": "fca7fb04",
   "metadata": {},
   "source": [
    "Como deduciamos que hay una alta correlacción negativa entre ambas variables."
   ]
  },
  {
   "cell_type": "code",
   "execution_count": 8,
   "id": "a21e3042",
   "metadata": {},
   "outputs": [],
   "source": [
    "df=df[df['time']<max(df['time'])]"
   ]
  },
  {
   "cell_type": "markdown",
   "id": "dd24ae55",
   "metadata": {},
   "source": [
    "Eliminamos los valores atípicos."
   ]
  },
  {
   "cell_type": "markdown",
   "id": "6be49026",
   "metadata": {},
   "source": [
    "### Preprocesamiento de datos"
   ]
  },
  {
   "cell_type": "code",
   "execution_count": 9,
   "id": "72f60d92",
   "metadata": {},
   "outputs": [],
   "source": [
    "from sklearn.preprocessing import StandardScaler\n",
    "\n",
    "sc=StandardScaler()"
   ]
  },
  {
   "cell_type": "markdown",
   "id": "7c9e92ca",
   "metadata": {},
   "source": [
    "Es buena práctica estandarizar los datos para evitar valores con mucha diferencia."
   ]
  },
  {
   "cell_type": "markdown",
   "id": "972d5cb2",
   "metadata": {},
   "source": [
    "### Definimos las variables independiete y dependiente"
   ]
  },
  {
   "cell_type": "code",
   "execution_count": 10,
   "id": "51542038",
   "metadata": {},
   "outputs": [],
   "source": [
    "X=np.array(df['year']).reshape(-1,1)\n",
    "X=sc.fit_transform(X)\n",
    "\n",
    "\n",
    "y=df['time']"
   ]
  },
  {
   "cell_type": "code",
   "execution_count": 11,
   "id": "5545a9f7",
   "metadata": {},
   "outputs": [
    {
     "data": {
      "text/plain": [
       "LinearRegression()"
      ]
     },
     "execution_count": 11,
     "metadata": {},
     "output_type": "execute_result"
    }
   ],
   "source": [
    "from sklearn.linear_model import LinearRegression\n",
    "\n",
    "lm=LinearRegression()\n",
    "\n",
    "lm.fit(X,y)"
   ]
  },
  {
   "cell_type": "markdown",
   "id": "4e70f40c",
   "metadata": {},
   "source": [
    "### Métricas de desempeño"
   ]
  },
  {
   "cell_type": "code",
   "execution_count": 12,
   "id": "3a0574cb",
   "metadata": {},
   "outputs": [
    {
     "name": "stdout",
     "output_type": "stream",
     "text": [
      "R2 score: 0.8963951502071188\n",
      "MSE score: 0.019416606043530765\n"
     ]
    }
   ],
   "source": [
    "from sklearn.metrics import mean_squared_error\n",
    "\n",
    "y_pred=lm.predict(X)\n",
    "print(f'R2 score: {lm.score(X,y)}')\n",
    "print(f'MSE score: {mean_squared_error(y,y_pred)}')"
   ]
  },
  {
   "cell_type": "markdown",
   "id": "3138f106",
   "metadata": {},
   "source": [
    "Podemos observar alto R2 ajustado lo cual indica que las predicciones son muy cercanas a los datos originales y el \n",
    "MSE es un estimador que  mide el promedio de los errores al cuadrado, es decir, la diferencia entre el estimador y lo que se estima. "
   ]
  },
  {
   "cell_type": "code",
   "execution_count": 13,
   "id": "4e718079",
   "metadata": {},
   "outputs": [],
   "source": [
    "df['predicciones']=y_pred"
   ]
  },
  {
   "cell_type": "code",
   "execution_count": 14,
   "id": "4baf9567",
   "metadata": {},
   "outputs": [],
   "source": [
    "def main():\n",
    "    \n",
    "\n",
    "    plt.title('Valores reales vs predichos')\n",
    "   \n",
    "    plt.scatter(X,y,c='#EA3E14',lw=2,label='Valores reales')\n",
    "    plt.plot(X,y_pred,c='#1CEA14',label='Valores predichos')"
   ]
  },
  {
   "cell_type": "code",
   "execution_count": 15,
   "id": "78e32e64",
   "metadata": {},
   "outputs": [
    {
     "data": {
      "image/png": "[encoded data removed]",
      "text/plain": [
       "<Figure size 1440x576 with 1 Axes>"
      ]
     },
     "metadata": {},
     "output_type": "display_data"
    }
   ],
   "source": [
    "if __name__ =='__main__':\n",
    "    \n",
    "    plt.subplots(1,1,figsize=(20,8))\n",
    "    main()\n",
    "    plt.legend()"
   ]
  },
  {
   "cell_type": "code",
   "execution_count": 131,
   "id": "a83d702e",
   "metadata": {},
   "outputs": [
    {
     "data": {
      "text/html": [
       "<div>\n",
       "<style scoped>\n",
       "    .dataframe tbody tr th:only-of-type {\n",
       "        vertical-align: middle;\n",
       "    }\n",
       "\n",
       "    .dataframe tbody tr th {\n",
       "        vertical-align: top;\n",
       "    }\n",
       "\n",
       "    .dataframe thead th {\n",
       "        text-align: right;\n",
       "    }\n",
       "</style>\n",
       "<table border=\"1\" class=\"dataframe\">\n",
       "  <thead>\n",
       "    <tr style=\"text-align: right;\">\n",
       "      <th></th>\n",
       "      <th>year</th>\n",
       "      <th>time</th>\n",
       "      <th>predicciones</th>\n",
       "    </tr>\n",
       "  </thead>\n",
       "  <tbody>\n",
       "    <tr>\n",
       "      <th>1</th>\n",
       "      <td>1900</td>\n",
       "      <td>11.00</td>\n",
       "      <td>10.952890</td>\n",
       "    </tr>\n",
       "    <tr>\n",
       "      <th>2</th>\n",
       "      <td>1904</td>\n",
       "      <td>11.00</td>\n",
       "      <td>10.907395</td>\n",
       "    </tr>\n",
       "    <tr>\n",
       "      <th>3</th>\n",
       "      <td>1906</td>\n",
       "      <td>11.20</td>\n",
       "      <td>10.884648</td>\n",
       "    </tr>\n",
       "    <tr>\n",
       "      <th>4</th>\n",
       "      <td>1908</td>\n",
       "      <td>10.80</td>\n",
       "      <td>10.861901</td>\n",
       "    </tr>\n",
       "    <tr>\n",
       "      <th>5</th>\n",
       "      <td>1912</td>\n",
       "      <td>10.80</td>\n",
       "      <td>10.816407</td>\n",
       "    </tr>\n",
       "    <tr>\n",
       "      <th>6</th>\n",
       "      <td>1920</td>\n",
       "      <td>10.80</td>\n",
       "      <td>10.725418</td>\n",
       "    </tr>\n",
       "    <tr>\n",
       "      <th>7</th>\n",
       "      <td>1924</td>\n",
       "      <td>10.60</td>\n",
       "      <td>10.679924</td>\n",
       "    </tr>\n",
       "    <tr>\n",
       "      <th>8</th>\n",
       "      <td>1928</td>\n",
       "      <td>10.80</td>\n",
       "      <td>10.634430</td>\n",
       "    </tr>\n",
       "    <tr>\n",
       "      <th>9</th>\n",
       "      <td>1932</td>\n",
       "      <td>10.30</td>\n",
       "      <td>10.588935</td>\n",
       "    </tr>\n",
       "    <tr>\n",
       "      <th>10</th>\n",
       "      <td>1936</td>\n",
       "      <td>10.30</td>\n",
       "      <td>10.543441</td>\n",
       "    </tr>\n",
       "    <tr>\n",
       "      <th>11</th>\n",
       "      <td>1948</td>\n",
       "      <td>10.30</td>\n",
       "      <td>10.406958</td>\n",
       "    </tr>\n",
       "    <tr>\n",
       "      <th>12</th>\n",
       "      <td>1952</td>\n",
       "      <td>10.40</td>\n",
       "      <td>10.361464</td>\n",
       "    </tr>\n",
       "    <tr>\n",
       "      <th>13</th>\n",
       "      <td>1956</td>\n",
       "      <td>10.50</td>\n",
       "      <td>10.315969</td>\n",
       "    </tr>\n",
       "    <tr>\n",
       "      <th>14</th>\n",
       "      <td>1960</td>\n",
       "      <td>10.20</td>\n",
       "      <td>10.270475</td>\n",
       "    </tr>\n",
       "    <tr>\n",
       "      <th>15</th>\n",
       "      <td>1964</td>\n",
       "      <td>10.00</td>\n",
       "      <td>10.224981</td>\n",
       "    </tr>\n",
       "    <tr>\n",
       "      <th>16</th>\n",
       "      <td>1968</td>\n",
       "      <td>9.95</td>\n",
       "      <td>10.179486</td>\n",
       "    </tr>\n",
       "    <tr>\n",
       "      <th>17</th>\n",
       "      <td>1972</td>\n",
       "      <td>10.14</td>\n",
       "      <td>10.133992</td>\n",
       "    </tr>\n",
       "    <tr>\n",
       "      <th>18</th>\n",
       "      <td>1976</td>\n",
       "      <td>10.06</td>\n",
       "      <td>10.088498</td>\n",
       "    </tr>\n",
       "    <tr>\n",
       "      <th>19</th>\n",
       "      <td>1980</td>\n",
       "      <td>10.25</td>\n",
       "      <td>10.043003</td>\n",
       "    </tr>\n",
       "    <tr>\n",
       "      <th>20</th>\n",
       "      <td>1984</td>\n",
       "      <td>9.99</td>\n",
       "      <td>9.997509</td>\n",
       "    </tr>\n",
       "    <tr>\n",
       "      <th>21</th>\n",
       "      <td>1988</td>\n",
       "      <td>9.92</td>\n",
       "      <td>9.952015</td>\n",
       "    </tr>\n",
       "    <tr>\n",
       "      <th>22</th>\n",
       "      <td>1992</td>\n",
       "      <td>9.96</td>\n",
       "      <td>9.906520</td>\n",
       "    </tr>\n",
       "    <tr>\n",
       "      <th>23</th>\n",
       "      <td>1996</td>\n",
       "      <td>9.84</td>\n",
       "      <td>9.861026</td>\n",
       "    </tr>\n",
       "    <tr>\n",
       "      <th>24</th>\n",
       "      <td>2000</td>\n",
       "      <td>9.87</td>\n",
       "      <td>9.815532</td>\n",
       "    </tr>\n",
       "    <tr>\n",
       "      <th>25</th>\n",
       "      <td>2004</td>\n",
       "      <td>9.85</td>\n",
       "      <td>9.770037</td>\n",
       "    </tr>\n",
       "    <tr>\n",
       "      <th>26</th>\n",
       "      <td>2008</td>\n",
       "      <td>9.69</td>\n",
       "      <td>9.724543</td>\n",
       "    </tr>\n",
       "    <tr>\n",
       "      <th>27</th>\n",
       "      <td>2012</td>\n",
       "      <td>9.63</td>\n",
       "      <td>9.679049</td>\n",
       "    </tr>\n",
       "    <tr>\n",
       "      <th>28</th>\n",
       "      <td>2016</td>\n",
       "      <td>9.81</td>\n",
       "      <td>9.633554</td>\n",
       "    </tr>\n",
       "  </tbody>\n",
       "</table>\n",
       "</div>"
      ],
      "text/plain": [
       "    year   time  predicciones\n",
       "1   1900  11.00     10.952890\n",
       "2   1904  11.00     10.907395\n",
       "3   1906  11.20     10.884648\n",
       "4   1908  10.80     10.861901\n",
       "5   1912  10.80     10.816407\n",
       "6   1920  10.80     10.725418\n",
       "7   1924  10.60     10.679924\n",
       "8   1928  10.80     10.634430\n",
       "9   1932  10.30     10.588935\n",
       "10  1936  10.30     10.543441\n",
       "11  1948  10.30     10.406958\n",
       "12  1952  10.40     10.361464\n",
       "13  1956  10.50     10.315969\n",
       "14  1960  10.20     10.270475\n",
       "15  1964  10.00     10.224981\n",
       "16  1968   9.95     10.179486\n",
       "17  1972  10.14     10.133992\n",
       "18  1976  10.06     10.088498\n",
       "19  1980  10.25     10.043003\n",
       "20  1984   9.99      9.997509\n",
       "21  1988   9.92      9.952015\n",
       "22  1992   9.96      9.906520\n",
       "23  1996   9.84      9.861026\n",
       "24  2000   9.87      9.815532\n",
       "25  2004   9.85      9.770037\n",
       "26  2008   9.69      9.724543\n",
       "27  2012   9.63      9.679049\n",
       "28  2016   9.81      9.633554"
      ]
     },
     "execution_count": 131,
     "metadata": {},
     "output_type": "execute_result"
    }
   ],
   "source": [
    "df"
   ]
  },
  {
   "cell_type": "markdown",
   "id": "f27e0209",
   "metadata": {},
   "source": [
    "### Guardamos el modelo"
   ]
  },
  {
   "cell_type": "code",
   "execution_count": 132,
   "id": "89910ae7",
   "metadata": {},
   "outputs": [
    {
     "data": {
      "text/plain": [
       "['lm_100m.pkl']"
      ]
     },
     "execution_count": 132,
     "metadata": {},
     "output_type": "execute_result"
    }
   ],
   "source": [
    "import joblib as job\n",
    "\n",
    "job.dump(lm,'lm_100m.pkl')"
   ]
  }
 ],
 "metadata": {
  "kernelspec": {
   "display_name": "Python 3",
   "language": "python",
   "name": "python3"
  },
  "language_info": {
   "codemirror_mode": {
    "name": "ipython",
    "version": 3
   },
   "file_extension": ".py",
   "mimetype": "text/x-python",
   "name": "python",
   "nbconvert_exporter": "python",
   "pygments_lexer": "ipython3",
   "version": "3.8.8"
  }
 },
 "nbformat": 4,
 "nbformat_minor": 5
}
