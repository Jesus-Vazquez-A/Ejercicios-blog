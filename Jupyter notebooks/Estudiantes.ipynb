{
 "cells": [
  {
   "cell_type": "code",
   "execution_count": 230,
   "id": "cad1561e",
   "metadata": {},
   "outputs": [],
   "source": [
    "import pandas as pd\n",
    "import matplotlib.pyplot as plt\n",
    "import seaborn as sns\n",
    "import numpy as np\n",
    "import random\n",
    "import warnings"
   ]
  },
  {
   "cell_type": "code",
   "execution_count": 231,
   "id": "89d06d0c",
   "metadata": {},
   "outputs": [],
   "source": [
    "warnings.filterwarnings('ignore')"
   ]
  },
  {
   "cell_type": "markdown",
   "id": "617d93c3",
   "metadata": {},
   "source": [
    "# Definición del problema\n",
    "\n",
    "Crear un modelo de regresión con el objetivo de predecir la nota de exámen de los estudiantes"
   ]
  },
  {
   "cell_type": "code",
   "execution_count": 232,
   "id": "9902f96f",
   "metadata": {},
   "outputs": [],
   "source": [
    "df=pd.read_csv(\"C:\\\\Users\\\\amado\\\\Desktop\\\\Ciencias de datos\\\\Bases de datos\\\\test_scores.csv\")"
   ]
  },
  {
   "cell_type": "markdown",
   "id": "b423738a",
   "metadata": {},
   "source": [
    "# Análisis exploratorio"
   ]
  },
  {
   "cell_type": "code",
   "execution_count": 224,
   "id": "f4cd0bf9",
   "metadata": {},
   "outputs": [
    {
     "data": {
      "text/html": [
       "<div>\n",
       "<style scoped>\n",
       "    .dataframe tbody tr th:only-of-type {\n",
       "        vertical-align: middle;\n",
       "    }\n",
       "\n",
       "    .dataframe tbody tr th {\n",
       "        vertical-align: top;\n",
       "    }\n",
       "\n",
       "    .dataframe thead th {\n",
       "        text-align: right;\n",
       "    }\n",
       "</style>\n",
       "<table border=\"1\" class=\"dataframe\">\n",
       "  <thead>\n",
       "    <tr style=\"text-align: right;\">\n",
       "      <th></th>\n",
       "      <th>school</th>\n",
       "      <th>school_setting</th>\n",
       "      <th>school_type</th>\n",
       "      <th>classroom</th>\n",
       "      <th>teaching_method</th>\n",
       "      <th>n_student</th>\n",
       "      <th>student_id</th>\n",
       "      <th>gender</th>\n",
       "      <th>lunch</th>\n",
       "      <th>pretest</th>\n",
       "      <th>posttest</th>\n",
       "    </tr>\n",
       "  </thead>\n",
       "  <tbody>\n",
       "    <tr>\n",
       "      <th>0</th>\n",
       "      <td>ANKYI</td>\n",
       "      <td>Urban</td>\n",
       "      <td>Non-public</td>\n",
       "      <td>6OL</td>\n",
       "      <td>Standard</td>\n",
       "      <td>20.0</td>\n",
       "      <td>2FHT3</td>\n",
       "      <td>Female</td>\n",
       "      <td>Does not qualify</td>\n",
       "      <td>62.0</td>\n",
       "      <td>72.0</td>\n",
       "    </tr>\n",
       "    <tr>\n",
       "      <th>1</th>\n",
       "      <td>ANKYI</td>\n",
       "      <td>Urban</td>\n",
       "      <td>Non-public</td>\n",
       "      <td>6OL</td>\n",
       "      <td>Standard</td>\n",
       "      <td>20.0</td>\n",
       "      <td>3JIVH</td>\n",
       "      <td>Female</td>\n",
       "      <td>Does not qualify</td>\n",
       "      <td>66.0</td>\n",
       "      <td>79.0</td>\n",
       "    </tr>\n",
       "    <tr>\n",
       "      <th>2</th>\n",
       "      <td>ANKYI</td>\n",
       "      <td>Urban</td>\n",
       "      <td>Non-public</td>\n",
       "      <td>6OL</td>\n",
       "      <td>Standard</td>\n",
       "      <td>20.0</td>\n",
       "      <td>3XOWE</td>\n",
       "      <td>Male</td>\n",
       "      <td>Does not qualify</td>\n",
       "      <td>64.0</td>\n",
       "      <td>76.0</td>\n",
       "    </tr>\n",
       "    <tr>\n",
       "      <th>3</th>\n",
       "      <td>ANKYI</td>\n",
       "      <td>Urban</td>\n",
       "      <td>Non-public</td>\n",
       "      <td>6OL</td>\n",
       "      <td>Standard</td>\n",
       "      <td>20.0</td>\n",
       "      <td>556O0</td>\n",
       "      <td>Female</td>\n",
       "      <td>Does not qualify</td>\n",
       "      <td>61.0</td>\n",
       "      <td>77.0</td>\n",
       "    </tr>\n",
       "    <tr>\n",
       "      <th>4</th>\n",
       "      <td>ANKYI</td>\n",
       "      <td>Urban</td>\n",
       "      <td>Non-public</td>\n",
       "      <td>6OL</td>\n",
       "      <td>Standard</td>\n",
       "      <td>20.0</td>\n",
       "      <td>74LOE</td>\n",
       "      <td>Male</td>\n",
       "      <td>Does not qualify</td>\n",
       "      <td>64.0</td>\n",
       "      <td>76.0</td>\n",
       "    </tr>\n",
       "  </tbody>\n",
       "</table>\n",
       "</div>"
      ],
      "text/plain": [
       "  school school_setting school_type classroom teaching_method  n_student  \\\n",
       "0  ANKYI          Urban  Non-public       6OL        Standard       20.0   \n",
       "1  ANKYI          Urban  Non-public       6OL        Standard       20.0   \n",
       "2  ANKYI          Urban  Non-public       6OL        Standard       20.0   \n",
       "3  ANKYI          Urban  Non-public       6OL        Standard       20.0   \n",
       "4  ANKYI          Urban  Non-public       6OL        Standard       20.0   \n",
       "\n",
       "  student_id  gender             lunch  pretest  posttest  \n",
       "0      2FHT3  Female  Does not qualify     62.0      72.0  \n",
       "1      3JIVH  Female  Does not qualify     66.0      79.0  \n",
       "2      3XOWE    Male  Does not qualify     64.0      76.0  \n",
       "3      556O0  Female  Does not qualify     61.0      77.0  \n",
       "4      74LOE    Male  Does not qualify     64.0      76.0  "
      ]
     },
     "execution_count": 224,
     "metadata": {},
     "output_type": "execute_result"
    }
   ],
   "source": [
    "df.head()"
   ]
  },
  {
   "cell_type": "code",
   "execution_count": 188,
   "id": "343c2482",
   "metadata": {},
   "outputs": [
    {
     "name": "stdout",
     "output_type": "stream",
     "text": [
      "<class 'pandas.core.frame.DataFrame'>\n",
      "RangeIndex: 2133 entries, 0 to 2132\n",
      "Data columns (total 4 columns):\n",
      " #   Column           Non-Null Count  Dtype  \n",
      "---  ------           --------------  -----  \n",
      " 0   school_type      2133 non-null   object \n",
      " 1   teaching_method  2133 non-null   object \n",
      " 2   pretest          2133 non-null   float64\n",
      " 3   posttest         2133 non-null   float64\n",
      "dtypes: float64(2), object(2)\n",
      "memory usage: 66.8+ KB\n"
     ]
    }
   ],
   "source": [
    "df.info()"
   ]
  },
  {
   "cell_type": "markdown",
   "id": "3fa06710",
   "metadata": {},
   "source": [
    "### Selección de variables\n",
    "\n",
    "Seleccionaremos la variable que hace alusión al método de estudio así como el tipo de escuela si es pública o no y por su puesto la notá del exámen preeliminar asi como el final que va con un valor máximo de 100.\n",
    "\n",
    "Seleccionamos dichas variables con el objetivo de generalizar para poder aplicar en diferentes escuelas."
   ]
  },
  {
   "cell_type": "code",
   "execution_count": 243,
   "id": "b221a233",
   "metadata": {},
   "outputs": [],
   "source": [
    "df=df[['school_type','teaching_method','pretest','posttest']]"
   ]
  },
  {
   "cell_type": "code",
   "execution_count": 226,
   "id": "484103d4",
   "metadata": {},
   "outputs": [
    {
     "data": {
      "text/html": [
       "<div>\n",
       "<style scoped>\n",
       "    .dataframe tbody tr th:only-of-type {\n",
       "        vertical-align: middle;\n",
       "    }\n",
       "\n",
       "    .dataframe tbody tr th {\n",
       "        vertical-align: top;\n",
       "    }\n",
       "\n",
       "    .dataframe thead th {\n",
       "        text-align: right;\n",
       "    }\n",
       "</style>\n",
       "<table border=\"1\" class=\"dataframe\">\n",
       "  <thead>\n",
       "    <tr style=\"text-align: right;\">\n",
       "      <th></th>\n",
       "      <th>pretest</th>\n",
       "      <th>posttest</th>\n",
       "    </tr>\n",
       "  </thead>\n",
       "  <tbody>\n",
       "    <tr>\n",
       "      <th>count</th>\n",
       "      <td>2133.000000</td>\n",
       "      <td>2133.000000</td>\n",
       "    </tr>\n",
       "    <tr>\n",
       "      <th>mean</th>\n",
       "      <td>54.955931</td>\n",
       "      <td>67.102203</td>\n",
       "    </tr>\n",
       "    <tr>\n",
       "      <th>std</th>\n",
       "      <td>13.563101</td>\n",
       "      <td>13.986789</td>\n",
       "    </tr>\n",
       "    <tr>\n",
       "      <th>min</th>\n",
       "      <td>22.000000</td>\n",
       "      <td>32.000000</td>\n",
       "    </tr>\n",
       "    <tr>\n",
       "      <th>25%</th>\n",
       "      <td>44.000000</td>\n",
       "      <td>56.000000</td>\n",
       "    </tr>\n",
       "    <tr>\n",
       "      <th>50%</th>\n",
       "      <td>56.000000</td>\n",
       "      <td>68.000000</td>\n",
       "    </tr>\n",
       "    <tr>\n",
       "      <th>75%</th>\n",
       "      <td>65.000000</td>\n",
       "      <td>77.000000</td>\n",
       "    </tr>\n",
       "    <tr>\n",
       "      <th>max</th>\n",
       "      <td>93.000000</td>\n",
       "      <td>100.000000</td>\n",
       "    </tr>\n",
       "  </tbody>\n",
       "</table>\n",
       "</div>"
      ],
      "text/plain": [
       "           pretest     posttest\n",
       "count  2133.000000  2133.000000\n",
       "mean     54.955931    67.102203\n",
       "std      13.563101    13.986789\n",
       "min      22.000000    32.000000\n",
       "25%      44.000000    56.000000\n",
       "50%      56.000000    68.000000\n",
       "75%      65.000000    77.000000\n",
       "max      93.000000   100.000000"
      ]
     },
     "execution_count": 226,
     "metadata": {},
     "output_type": "execute_result"
    }
   ],
   "source": [
    "df.describe()"
   ]
  },
  {
   "cell_type": "code",
   "execution_count": 167,
   "id": "fc92b2ba",
   "metadata": {},
   "outputs": [
    {
     "data": {
      "text/plain": [
       "Standard        1373\n",
       "Experimental     760\n",
       "Name: teaching_method, dtype: int64"
      ]
     },
     "execution_count": 167,
     "metadata": {},
     "output_type": "execute_result"
    }
   ],
   "source": [
    "df.teaching_method.value_counts()"
   ]
  },
  {
   "cell_type": "code",
   "execution_count": 227,
   "id": "62ebdcd4",
   "metadata": {},
   "outputs": [],
   "source": [
    "sns.set_style(style='whitegrid')"
   ]
  },
  {
   "cell_type": "code",
   "execution_count": 228,
   "id": "24a1c738",
   "metadata": {},
   "outputs": [],
   "source": [
    "sizes=[1373,760]\n",
    "labels=['Standard','Experimental']"
   ]
  },
  {
   "cell_type": "code",
   "execution_count": 229,
   "id": "b1d5d5e3",
   "metadata": {},
   "outputs": [
    {
     "data": {
      "image/png": "[encoded data removed]",
      "text/plain": [
       "<Figure size 1440x576 with 1 Axes>"
      ]
     },
     "metadata": {},
     "output_type": "display_data"
    }
   ],
   "source": [
    "colors=['#ffffb7','#e6e6fa']\n",
    "\n",
    "plt.figure(figsize=(20,8))\n",
    "\n",
    "plt.title('Método de estudio')\n",
    "plt.pie(sizes,labels=labels,autopct='%1.1f%%',colors=colors,explode=[0.05,0])\n",
    "plt.show()"
   ]
  },
  {
   "cell_type": "code",
   "execution_count": 186,
   "id": "24ed289b",
   "metadata": {},
   "outputs": [
    {
     "data": {
      "image/png": "[encoded data removed]",
      "text/plain": [
       "<Figure size 1440x576 with 1 Axes>"
      ]
     },
     "metadata": {},
     "output_type": "display_data"
    }
   ],
   "source": [
    "plt.figure(figsize=(20,8))\n",
    "\n",
    "\n",
    "plt.title('Tipo de escuela')\n",
    "plt.pie(df.school_type.value_counts(),labels=df.school_type.unique(),\n",
    "        autopct='%1.1f%%',colors=['#9FD5D1','#00ffff'],explode=[0.05,0])\n",
    "\n",
    "plt.show()"
   ]
  },
  {
   "cell_type": "code",
   "execution_count": 189,
   "id": "392015f1",
   "metadata": {},
   "outputs": [],
   "source": [
    "def hist_boxplot(y):\n",
    "    \n",
    "\n",
    "    fig,(ax_hist,ax_box)=plt.subplots(1,2,figsize=(20,8))\n",
    "\n",
    "    ax_hist.hist(df[y],ec='black',lw=3,color='#ffffbf')\n",
    "\n",
    "    ax_hist.set_title('Exámen')\n",
    "\n",
    "    ax_hist.axvline(df[y].mean(),lw=4,linestyle='-',c='blue',label='Promedio')\n",
    "    ax_hist.axvline(df[y].median(),lw=4,linestyle='-',c='red',label='Mediana')\n",
    "    ax_hist.axvline(df[y].mode()[0],lw=4,linestyle='-',c='c',label='Moda')\n",
    "\n",
    "\n",
    "    ax_box.set_title('Exámen')\n",
    "    sns.boxplot(df[y],color='#ffffbf')\n",
    "\n",
    "    ax_hist.legend()\n",
    "\n",
    "    plt.show()\n"
   ]
  },
  {
   "cell_type": "markdown",
   "id": "0ee4cf7e",
   "metadata": {},
   "source": [
    "#### Moda\n",
    "\n",
    "Es el valor que más se repite.\n",
    "\n",
    "\n",
    "#### Promedio \n",
    "\n",
    "Es la suma de los números divida por la cantidad de las observaciones con el objetivo de generalizar yque represente la muestra de los datos.\n",
    "\n",
    "\n",
    "#### Mediana\n",
    "\n",
    "Es el valor que está justamente en el medio cuando los datos están ordenamos de menor a mayor."
   ]
  },
  {
   "cell_type": "code",
   "execution_count": 193,
   "id": "2215398e",
   "metadata": {},
   "outputs": [
    {
     "data": {
      "image/png": "[encoded data removed]",
      "text/plain": [
       "<Figure size 1440x576 with 2 Axes>"
      ]
     },
     "metadata": {},
     "output_type": "display_data"
    }
   ],
   "source": [
    "hist_boxplot('pretest')"
   ]
  },
  {
   "cell_type": "markdown",
   "id": "f58b5458",
   "metadata": {},
   "source": [
    "Observamos que hay una concentración a la derecha y la moda está algo alejada a las dos medidas de tendencia central."
   ]
  },
  {
   "cell_type": "code",
   "execution_count": 194,
   "id": "977afb97",
   "metadata": {},
   "outputs": [
    {
     "data": {
      "image/png": "[encoded data removed]",
      "text/plain": [
       "<Figure size 1440x576 with 2 Axes>"
      ]
     },
     "metadata": {},
     "output_type": "display_data"
    }
   ],
   "source": [
    "hist_boxplot('posttest')"
   ]
  },
  {
   "cell_type": "markdown",
   "id": "e5f5250a",
   "metadata": {},
   "source": [
    "Sucedo lo contrario para dicha variable donde ambas medidas están casi juntas, pero aún hay más concentración hacía la derecha."
   ]
  },
  {
   "cell_type": "markdown",
   "id": "930f5372",
   "metadata": {},
   "source": [
    "## ¿El método de estudio y el tipo de escuela influyen al resultado ?"
   ]
  },
  {
   "cell_type": "code",
   "execution_count": 237,
   "id": "e5d6fcb2",
   "metadata": {},
   "outputs": [
    {
     "data": {
      "image/png": "[encoded data removed]",
      "text/plain": [
       "<Figure size 1440x576 with 1 Axes>"
      ]
     },
     "metadata": {},
     "output_type": "display_data"
    }
   ],
   "source": [
    "fig,(ax_box)=plt.subplots(1,1,figsize=(20,8))\n",
    "\n",
    "ax_box.set_title('Tipo de escuela')\n",
    "sns.boxplot(x='teaching_method',y='posttest',hue='school_type',data=df,palette='Set2',ax=ax_box)\n",
    "ax_box.legend(loc='upper center',bbox_to_anchor=(0.5, 1.15),ncol=2)\n",
    "plt.show()"
   ]
  },
  {
   "cell_type": "markdown",
   "id": "01898776",
   "metadata": {},
   "source": [
    "Observamos que los alumnos que estudiaron en una escuela que tuvieron un método de enseñanza convencional tienen una nota superior a los que estudiaron en escuela privada.\n",
    "\n",
    "Pero los que estudiar en dicha escuela si usan un método de estudio personalizado tienden a tener una calificación más alta que los que estudiaron en escuela pública.\n"
   ]
  },
  {
   "cell_type": "code",
   "execution_count": 238,
   "id": "b1c844a9",
   "metadata": {},
   "outputs": [
    {
     "data": {
      "image/png": "[encoded data removed]",
      "text/plain": [
       "<Figure size 360x360 with 1 Axes>"
      ]
     },
     "metadata": {},
     "output_type": "display_data"
    }
   ],
   "source": [
    "\n",
    "sns.lmplot(x='pretest',y='posttest',data=df)\n",
    "plt.show()"
   ]
  },
  {
   "cell_type": "markdown",
   "id": "015d543e",
   "metadata": {},
   "source": [
    "Podemos observar que si hay una relación significativa entre ambas variables."
   ]
  },
  {
   "cell_type": "markdown",
   "id": "c3277ab1",
   "metadata": {},
   "source": [
    "### Eliminación de valores atípicos."
   ]
  },
  {
   "cell_type": "code",
   "execution_count": 251,
   "id": "0a0cb5bd",
   "metadata": {},
   "outputs": [],
   "source": [
    "df=df[df['pretest']>=32]"
   ]
  },
  {
   "cell_type": "code",
   "execution_count": 253,
   "id": "dd007f8c",
   "metadata": {},
   "outputs": [
    {
     "data": {
      "image/png": "[encoded data removed]",
      "text/plain": [
       "<Figure size 360x360 with 1 Axes>"
      ]
     },
     "metadata": {},
     "output_type": "display_data"
    }
   ],
   "source": [
    "\n",
    "sns.lmplot(x='pretest',y='posttest',data=df)\n",
    "plt.show()"
   ]
  },
  {
   "cell_type": "markdown",
   "id": "b80f6dae",
   "metadata": {},
   "source": [
    "#### Transformamos las varibales tipo texto"
   ]
  },
  {
   "cell_type": "code",
   "execution_count": 254,
   "id": "c353ce86",
   "metadata": {},
   "outputs": [],
   "source": [
    "df.school_type=np.where(df['school_type']=='Non-public',0,1)\n",
    "df.teaching_method=np.where(df['teaching_method']=='Standard',0,1)"
   ]
  },
  {
   "cell_type": "code",
   "execution_count": 255,
   "id": "9a674302",
   "metadata": {},
   "outputs": [
    {
     "data": {
      "text/html": [
       "<div>\n",
       "<style scoped>\n",
       "    .dataframe tbody tr th:only-of-type {\n",
       "        vertical-align: middle;\n",
       "    }\n",
       "\n",
       "    .dataframe tbody tr th {\n",
       "        vertical-align: top;\n",
       "    }\n",
       "\n",
       "    .dataframe thead th {\n",
       "        text-align: right;\n",
       "    }\n",
       "</style>\n",
       "<table border=\"1\" class=\"dataframe\">\n",
       "  <thead>\n",
       "    <tr style=\"text-align: right;\">\n",
       "      <th></th>\n",
       "      <th>school_type</th>\n",
       "      <th>teaching_method</th>\n",
       "      <th>pretest</th>\n",
       "      <th>posttest</th>\n",
       "    </tr>\n",
       "  </thead>\n",
       "  <tbody>\n",
       "    <tr>\n",
       "      <th>0</th>\n",
       "      <td>0</td>\n",
       "      <td>0</td>\n",
       "      <td>62.0</td>\n",
       "      <td>72.0</td>\n",
       "    </tr>\n",
       "    <tr>\n",
       "      <th>1</th>\n",
       "      <td>0</td>\n",
       "      <td>0</td>\n",
       "      <td>66.0</td>\n",
       "      <td>79.0</td>\n",
       "    </tr>\n",
       "    <tr>\n",
       "      <th>2</th>\n",
       "      <td>0</td>\n",
       "      <td>0</td>\n",
       "      <td>64.0</td>\n",
       "      <td>76.0</td>\n",
       "    </tr>\n",
       "    <tr>\n",
       "      <th>3</th>\n",
       "      <td>0</td>\n",
       "      <td>0</td>\n",
       "      <td>61.0</td>\n",
       "      <td>77.0</td>\n",
       "    </tr>\n",
       "    <tr>\n",
       "      <th>4</th>\n",
       "      <td>0</td>\n",
       "      <td>0</td>\n",
       "      <td>64.0</td>\n",
       "      <td>76.0</td>\n",
       "    </tr>\n",
       "    <tr>\n",
       "      <th>...</th>\n",
       "      <td>...</td>\n",
       "      <td>...</td>\n",
       "      <td>...</td>\n",
       "      <td>...</td>\n",
       "    </tr>\n",
       "    <tr>\n",
       "      <th>2128</th>\n",
       "      <td>1</td>\n",
       "      <td>0</td>\n",
       "      <td>39.0</td>\n",
       "      <td>55.0</td>\n",
       "    </tr>\n",
       "    <tr>\n",
       "      <th>2129</th>\n",
       "      <td>1</td>\n",
       "      <td>0</td>\n",
       "      <td>38.0</td>\n",
       "      <td>46.0</td>\n",
       "    </tr>\n",
       "    <tr>\n",
       "      <th>2130</th>\n",
       "      <td>1</td>\n",
       "      <td>0</td>\n",
       "      <td>45.0</td>\n",
       "      <td>51.0</td>\n",
       "    </tr>\n",
       "    <tr>\n",
       "      <th>2131</th>\n",
       "      <td>1</td>\n",
       "      <td>0</td>\n",
       "      <td>46.0</td>\n",
       "      <td>53.0</td>\n",
       "    </tr>\n",
       "    <tr>\n",
       "      <th>2132</th>\n",
       "      <td>1</td>\n",
       "      <td>0</td>\n",
       "      <td>41.0</td>\n",
       "      <td>48.0</td>\n",
       "    </tr>\n",
       "  </tbody>\n",
       "</table>\n",
       "<p>2050 rows × 4 columns</p>\n",
       "</div>"
      ],
      "text/plain": [
       "      school_type  teaching_method  pretest  posttest\n",
       "0               0                0     62.0      72.0\n",
       "1               0                0     66.0      79.0\n",
       "2               0                0     64.0      76.0\n",
       "3               0                0     61.0      77.0\n",
       "4               0                0     64.0      76.0\n",
       "...           ...              ...      ...       ...\n",
       "2128            1                0     39.0      55.0\n",
       "2129            1                0     38.0      46.0\n",
       "2130            1                0     45.0      51.0\n",
       "2131            1                0     46.0      53.0\n",
       "2132            1                0     41.0      48.0\n",
       "\n",
       "[2050 rows x 4 columns]"
      ]
     },
     "execution_count": 255,
     "metadata": {},
     "output_type": "execute_result"
    }
   ],
   "source": [
    "df"
   ]
  },
  {
   "cell_type": "code",
   "execution_count": 256,
   "id": "b2aa927e",
   "metadata": {},
   "outputs": [
    {
     "data": {
      "text/plain": [
       "<AxesSubplot:title={'center':'Correlation Matrix'}>"
      ]
     },
     "execution_count": 256,
     "metadata": {},
     "output_type": "execute_result"
    },
    {
     "data": {
      "image/png": "[encoded data removed]",
      "text/plain": [
       "<Figure size 1440x576 with 2 Axes>"
      ]
     },
     "metadata": {},
     "output_type": "display_data"
    }
   ],
   "source": [
    "plt.subplots(1,1,figsize=(20,8))\n",
    "\n",
    "plt.title('Correlation Matrix')\n",
    "sns.heatmap(df.corr(),annot=True)"
   ]
  },
  {
   "cell_type": "markdown",
   "id": "de62b247",
   "metadata": {},
   "source": [
    "### Preprocesamiento de datos\n",
    "\n",
    "Hacemos un rescalado de los datos para que esten un el rango de 0 a 1 con el fin de no manejar datos tan grandes pero tampoco tan chicos."
   ]
  },
  {
   "cell_type": "code",
   "execution_count": 257,
   "id": "cfc5bb51",
   "metadata": {},
   "outputs": [],
   "source": [
    "from sklearn.preprocessing import MinMaxScaler\n",
    "\n",
    "scaler=MinMaxScaler()\n",
    "\n",
    "df['pretest']=scaler.fit_transform(df[['pretest']])\n"
   ]
  },
  {
   "cell_type": "markdown",
   "id": "818d16d7",
   "metadata": {},
   "source": [
    "### División de datos de entrenamiento y validación"
   ]
  },
  {
   "cell_type": "code",
   "execution_count": 258,
   "id": "ebab856e",
   "metadata": {},
   "outputs": [
    {
     "data": {
      "text/plain": [
       "((1640, 3), (410, 3))"
      ]
     },
     "execution_count": 258,
     "metadata": {},
     "output_type": "execute_result"
    }
   ],
   "source": [
    "\n",
    "X=df.drop(['posttest'],axis='columns')\n",
    "y=df['posttest']\n",
    "\n",
    "\n",
    "from sklearn.model_selection import train_test_split,cross_val_score\n",
    "\n",
    "\n",
    "X_train,X_test,Y_train,Y_test=train_test_split(X,\n",
    "                                               y,\n",
    "                                               random_state=0,\n",
    "                                               test_size=0.2)\n",
    "\n",
    "X_train.shape,X_test.shape"
   ]
  },
  {
   "cell_type": "markdown",
   "id": "78ef4c7f",
   "metadata": {},
   "source": [
    "# Creación del modelo"
   ]
  },
  {
   "cell_type": "code",
   "execution_count": 265,
   "id": "3dbbbdfb",
   "metadata": {},
   "outputs": [
    {
     "data": {
      "text/plain": [
       "0.9417704181702031"
      ]
     },
     "execution_count": 265,
     "metadata": {},
     "output_type": "execute_result"
    }
   ],
   "source": [
    "from sklearn.linear_model import LinearRegression\n",
    "\n",
    "lm=LinearRegression()\n",
    "\n",
    "lm.fit(X_train,Y_train)\n",
    "\n",
    "lm.score(X_train,Y_train)"
   ]
  },
  {
   "cell_type": "code",
   "execution_count": 266,
   "id": "d1206e49",
   "metadata": {},
   "outputs": [],
   "source": [
    "pred=lm.predict(X_test)"
   ]
  },
  {
   "cell_type": "markdown",
   "id": "8c034cc5",
   "metadata": {},
   "source": [
    "### Métricas de desempeño"
   ]
  },
  {
   "cell_type": "code",
   "execution_count": 267,
   "id": "9ffd873e",
   "metadata": {},
   "outputs": [
    {
     "name": "stdout",
     "output_type": "stream",
     "text": [
      "MSE 11.916434993617795\n",
      "R2  0.9371813550028335\n"
     ]
    }
   ],
   "source": [
    "from sklearn.metrics import mean_squared_error,r2_score\n",
    "\n",
    "\n",
    "print(f'MSE {mean_squared_error(Y_test,pred)}')\n",
    "\n",
    "\n",
    "print(f'R2  {r2_score(Y_test,pred)}')"
   ]
  },
  {
   "cell_type": "code",
   "execution_count": 268,
   "id": "bed4750d",
   "metadata": {},
   "outputs": [
    {
     "data": {
      "text/plain": [
       "0.9304940121005547"
      ]
     },
     "execution_count": 268,
     "metadata": {},
     "output_type": "execute_result"
    }
   ],
   "source": [
    "cross_val_score(lm,X_test,Y_test,cv=10).mean()"
   ]
  },
  {
   "cell_type": "markdown",
   "id": "15dc53ef",
   "metadata": {},
   "source": [
    "El promedio de generalización es de un 93% lo cual indica que nuestro modelo será muy útil a la hora de predecir nuevos datos"
   ]
  },
  {
   "cell_type": "code",
   "execution_count": 269,
   "id": "212c350f",
   "metadata": {},
   "outputs": [],
   "source": [
    "n_obs=np.arange(0,len(Y_test))\n",
    "\n",
    "def main():\n",
    "    \n",
    "    \n",
    "    plt.scatter(n_obs,Y_test,marker='+',c='c',label='Valores Predichos')\n",
    "    plt.scatter(n_obs,pred,c='k',marker='*',label='Valores originales')\n",
    "    plt.legend(loc='upper center',bbox_to_anchor=(0.5, 1.15),ncol=2)\n",
    "\n"
   ]
  },
  {
   "cell_type": "code",
   "execution_count": 271,
   "id": "6d1bdefa",
   "metadata": {},
   "outputs": [
    {
     "data": {
      "image/png": "[encoded data removed]",
      "text/plain": [
       "<Figure size 1440x576 with 1 Axes>"
      ]
     },
     "metadata": {},
     "output_type": "display_data"
    }
   ],
   "source": [
    "if __name__ =='__main__':\n",
    "    \n",
    "    plt.figure(figsize=(20,8))\n",
    "    plt.title('Valores reales vs predichos')\n",
    "    \n",
    "    main()"
   ]
  },
  {
   "cell_type": "markdown",
   "id": "c3e8dfee",
   "metadata": {},
   "source": [
    "Apreciamos que los valores predichos no son muy lejanos a los originales como ya anticipaba el R2 que esel porcentaje de variación entre los datos reales y las predicciones."
   ]
  },
  {
   "cell_type": "markdown",
   "id": "64d4e3e3",
   "metadata": {},
   "source": [
    "### Comparamos los datos reales vs las predicciones"
   ]
  },
  {
   "cell_type": "code",
   "execution_count": 272,
   "id": "5c218c2a",
   "metadata": {},
   "outputs": [],
   "source": [
    "df_compare=pd.DataFrame({'Valores reales': Y_test,'Predicciones':pred})"
   ]
  },
  {
   "cell_type": "code",
   "execution_count": 274,
   "id": "8f94404c",
   "metadata": {},
   "outputs": [
    {
     "data": {
      "text/html": [
       "<div>\n",
       "<style scoped>\n",
       "    .dataframe tbody tr th:only-of-type {\n",
       "        vertical-align: middle;\n",
       "    }\n",
       "\n",
       "    .dataframe tbody tr th {\n",
       "        vertical-align: top;\n",
       "    }\n",
       "\n",
       "    .dataframe thead th {\n",
       "        text-align: right;\n",
       "    }\n",
       "</style>\n",
       "<table border=\"1\" class=\"dataframe\">\n",
       "  <thead>\n",
       "    <tr style=\"text-align: right;\">\n",
       "      <th></th>\n",
       "      <th>Valores reales</th>\n",
       "      <th>Predicciones</th>\n",
       "    </tr>\n",
       "  </thead>\n",
       "  <tbody>\n",
       "    <tr>\n",
       "      <th>1348</th>\n",
       "      <td>76.0</td>\n",
       "      <td>74.733310</td>\n",
       "    </tr>\n",
       "    <tr>\n",
       "      <th>1419</th>\n",
       "      <td>77.0</td>\n",
       "      <td>74.472681</td>\n",
       "    </tr>\n",
       "    <tr>\n",
       "      <th>1207</th>\n",
       "      <td>71.0</td>\n",
       "      <td>70.643520</td>\n",
       "    </tr>\n",
       "    <tr>\n",
       "      <th>1074</th>\n",
       "      <td>47.0</td>\n",
       "      <td>49.583133</td>\n",
       "    </tr>\n",
       "    <tr>\n",
       "      <th>950</th>\n",
       "      <td>50.0</td>\n",
       "      <td>58.754990</td>\n",
       "    </tr>\n",
       "    <tr>\n",
       "      <th>1807</th>\n",
       "      <td>58.0</td>\n",
       "      <td>62.027907</td>\n",
       "    </tr>\n",
       "    <tr>\n",
       "      <th>465</th>\n",
       "      <td>81.0</td>\n",
       "      <td>77.900796</td>\n",
       "    </tr>\n",
       "    <tr>\n",
       "      <th>770</th>\n",
       "      <td>50.0</td>\n",
       "      <td>47.668553</td>\n",
       "    </tr>\n",
       "    <tr>\n",
       "      <th>1383</th>\n",
       "      <td>70.0</td>\n",
       "      <td>70.643520</td>\n",
       "    </tr>\n",
       "    <tr>\n",
       "      <th>1640</th>\n",
       "      <td>89.0</td>\n",
       "      <td>87.473699</td>\n",
       "    </tr>\n",
       "    <tr>\n",
       "      <th>240</th>\n",
       "      <td>69.0</td>\n",
       "      <td>69.686230</td>\n",
       "    </tr>\n",
       "    <tr>\n",
       "      <th>1646</th>\n",
       "      <td>85.0</td>\n",
       "      <td>82.687248</td>\n",
       "    </tr>\n",
       "    <tr>\n",
       "      <th>2118</th>\n",
       "      <td>53.0</td>\n",
       "      <td>56.284166</td>\n",
       "    </tr>\n",
       "    <tr>\n",
       "      <th>787</th>\n",
       "      <td>54.0</td>\n",
       "      <td>50.540424</td>\n",
       "    </tr>\n",
       "    <tr>\n",
       "      <th>2079</th>\n",
       "      <td>53.0</td>\n",
       "      <td>53.412295</td>\n",
       "    </tr>\n",
       "    <tr>\n",
       "      <th>919</th>\n",
       "      <td>82.0</td>\n",
       "      <td>75.725586</td>\n",
       "    </tr>\n",
       "    <tr>\n",
       "      <th>1021</th>\n",
       "      <td>40.0</td>\n",
       "      <td>44.796682</td>\n",
       "    </tr>\n",
       "    <tr>\n",
       "      <th>1243</th>\n",
       "      <td>56.0</td>\n",
       "      <td>58.459375</td>\n",
       "    </tr>\n",
       "    <tr>\n",
       "      <th>1217</th>\n",
       "      <td>67.0</td>\n",
       "      <td>65.857069</td>\n",
       "    </tr>\n",
       "    <tr>\n",
       "      <th>1193</th>\n",
       "      <td>68.0</td>\n",
       "      <td>64.899778</td>\n",
       "    </tr>\n",
       "    <tr>\n",
       "      <th>1903</th>\n",
       "      <td>47.0</td>\n",
       "      <td>47.668553</td>\n",
       "    </tr>\n",
       "    <tr>\n",
       "      <th>648</th>\n",
       "      <td>74.0</td>\n",
       "      <td>69.946859</td>\n",
       "    </tr>\n",
       "    <tr>\n",
       "      <th>1114</th>\n",
       "      <td>72.0</td>\n",
       "      <td>72.558101</td>\n",
       "    </tr>\n",
       "    <tr>\n",
       "      <th>837</th>\n",
       "      <td>58.0</td>\n",
       "      <td>60.373956</td>\n",
       "    </tr>\n",
       "    <tr>\n",
       "      <th>1761</th>\n",
       "      <td>77.0</td>\n",
       "      <td>74.472681</td>\n",
       "    </tr>\n",
       "    <tr>\n",
       "      <th>1710</th>\n",
       "      <td>52.0</td>\n",
       "      <td>54.665200</td>\n",
       "    </tr>\n",
       "    <tr>\n",
       "      <th>686</th>\n",
       "      <td>54.0</td>\n",
       "      <td>56.284166</td>\n",
       "    </tr>\n",
       "    <tr>\n",
       "      <th>506</th>\n",
       "      <td>57.0</td>\n",
       "      <td>55.326875</td>\n",
       "    </tr>\n",
       "    <tr>\n",
       "      <th>1510</th>\n",
       "      <td>93.0</td>\n",
       "      <td>94.575778</td>\n",
       "    </tr>\n",
       "    <tr>\n",
       "      <th>18</th>\n",
       "      <td>71.0</td>\n",
       "      <td>72.853715</td>\n",
       "    </tr>\n",
       "    <tr>\n",
       "      <th>1962</th>\n",
       "      <td>82.0</td>\n",
       "      <td>76.647891</td>\n",
       "    </tr>\n",
       "    <tr>\n",
       "      <th>538</th>\n",
       "      <td>85.0</td>\n",
       "      <td>76.647891</td>\n",
       "    </tr>\n",
       "    <tr>\n",
       "      <th>1994</th>\n",
       "      <td>90.0</td>\n",
       "      <td>95.793697</td>\n",
       "    </tr>\n",
       "    <tr>\n",
       "      <th>1815</th>\n",
       "      <td>60.0</td>\n",
       "      <td>58.459375</td>\n",
       "    </tr>\n",
       "    <tr>\n",
       "      <th>2034</th>\n",
       "      <td>56.0</td>\n",
       "      <td>56.284166</td>\n",
       "    </tr>\n",
       "    <tr>\n",
       "      <th>665</th>\n",
       "      <td>61.0</td>\n",
       "      <td>52.455004</td>\n",
       "    </tr>\n",
       "    <tr>\n",
       "      <th>1005</th>\n",
       "      <td>40.0</td>\n",
       "      <td>42.882101</td>\n",
       "    </tr>\n",
       "    <tr>\n",
       "      <th>522</th>\n",
       "      <td>76.0</td>\n",
       "      <td>75.690601</td>\n",
       "    </tr>\n",
       "    <tr>\n",
       "      <th>145</th>\n",
       "      <td>69.0</td>\n",
       "      <td>71.896425</td>\n",
       "    </tr>\n",
       "    <tr>\n",
       "      <th>1203</th>\n",
       "      <td>72.0</td>\n",
       "      <td>68.728939</td>\n",
       "    </tr>\n",
       "    <tr>\n",
       "      <th>276</th>\n",
       "      <td>61.0</td>\n",
       "      <td>61.070617</td>\n",
       "    </tr>\n",
       "    <tr>\n",
       "      <th>568</th>\n",
       "      <td>62.0</td>\n",
       "      <td>65.857069</td>\n",
       "    </tr>\n",
       "    <tr>\n",
       "      <th>1520</th>\n",
       "      <td>93.0</td>\n",
       "      <td>90.049955</td>\n",
       "    </tr>\n",
       "    <tr>\n",
       "      <th>1033</th>\n",
       "      <td>45.0</td>\n",
       "      <td>43.839392</td>\n",
       "    </tr>\n",
       "    <tr>\n",
       "      <th>1944</th>\n",
       "      <td>52.0</td>\n",
       "      <td>49.843763</td>\n",
       "    </tr>\n",
       "    <tr>\n",
       "      <th>1321</th>\n",
       "      <td>62.0</td>\n",
       "      <td>61.070617</td>\n",
       "    </tr>\n",
       "    <tr>\n",
       "      <th>974</th>\n",
       "      <td>49.0</td>\n",
       "      <td>52.750619</td>\n",
       "    </tr>\n",
       "    <tr>\n",
       "      <th>37</th>\n",
       "      <td>66.0</td>\n",
       "      <td>70.939135</td>\n",
       "    </tr>\n",
       "    <tr>\n",
       "      <th>1947</th>\n",
       "      <td>86.0</td>\n",
       "      <td>81.434343</td>\n",
       "    </tr>\n",
       "    <tr>\n",
       "      <th>1660</th>\n",
       "      <td>73.0</td>\n",
       "      <td>77.640167</td>\n",
       "    </tr>\n",
       "  </tbody>\n",
       "</table>\n",
       "</div>"
      ],
      "text/plain": [
       "      Valores reales  Predicciones\n",
       "1348            76.0     74.733310\n",
       "1419            77.0     74.472681\n",
       "1207            71.0     70.643520\n",
       "1074            47.0     49.583133\n",
       "950             50.0     58.754990\n",
       "1807            58.0     62.027907\n",
       "465             81.0     77.900796\n",
       "770             50.0     47.668553\n",
       "1383            70.0     70.643520\n",
       "1640            89.0     87.473699\n",
       "240             69.0     69.686230\n",
       "1646            85.0     82.687248\n",
       "2118            53.0     56.284166\n",
       "787             54.0     50.540424\n",
       "2079            53.0     53.412295\n",
       "919             82.0     75.725586\n",
       "1021            40.0     44.796682\n",
       "1243            56.0     58.459375\n",
       "1217            67.0     65.857069\n",
       "1193            68.0     64.899778\n",
       "1903            47.0     47.668553\n",
       "648             74.0     69.946859\n",
       "1114            72.0     72.558101\n",
       "837             58.0     60.373956\n",
       "1761            77.0     74.472681\n",
       "1710            52.0     54.665200\n",
       "686             54.0     56.284166\n",
       "506             57.0     55.326875\n",
       "1510            93.0     94.575778\n",
       "18              71.0     72.853715\n",
       "1962            82.0     76.647891\n",
       "538             85.0     76.647891\n",
       "1994            90.0     95.793697\n",
       "1815            60.0     58.459375\n",
       "2034            56.0     56.284166\n",
       "665             61.0     52.455004\n",
       "1005            40.0     42.882101\n",
       "522             76.0     75.690601\n",
       "145             69.0     71.896425\n",
       "1203            72.0     68.728939\n",
       "276             61.0     61.070617\n",
       "568             62.0     65.857069\n",
       "1520            93.0     90.049955\n",
       "1033            45.0     43.839392\n",
       "1944            52.0     49.843763\n",
       "1321            62.0     61.070617\n",
       "974             49.0     52.750619\n",
       "37              66.0     70.939135\n",
       "1947            86.0     81.434343\n",
       "1660            73.0     77.640167"
      ]
     },
     "execution_count": 274,
     "metadata": {},
     "output_type": "execute_result"
    }
   ],
   "source": [
    "df_compare.head(50)"
   ]
  },
  {
   "cell_type": "markdown",
   "id": "24f97f53",
   "metadata": {},
   "source": [
    "### Guardamos el modelo"
   ]
  },
  {
   "cell_type": "code",
   "execution_count": 275,
   "id": "61938ae9",
   "metadata": {},
   "outputs": [
    {
     "data": {
      "text/plain": [
       "['lm_estudaintes.pkl']"
      ]
     },
     "execution_count": 275,
     "metadata": {},
     "output_type": "execute_result"
    }
   ],
   "source": [
    "import joblib\n",
    "\n",
    "\n",
    "joblib.dump(lm,'lm_estudaintes.pkl')\n"
   ]
  }
 ],
 "metadata": {
  "kernelspec": {
   "display_name": "Python 3",
   "language": "python",
   "name": "python3"
  },
  "language_info": {
   "codemirror_mode": {
    "name": "ipython",
    "version": 3
   },
   "file_extension": ".py",
   "mimetype": "text/x-python",
   "name": "python",
   "nbconvert_exporter": "python",
   "pygments_lexer": "ipython3",
   "version": "3.8.8"
  }
 },
 "nbformat": 4,
 "nbformat_minor": 5
}
